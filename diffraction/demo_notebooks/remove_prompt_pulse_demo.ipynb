{
 "cells": [
  {
   "cell_type": "markdown",
   "id": "6c64ff7a-29e7-4125-94b8-190d5a10ec9c",
   "metadata": {},
   "source": [
    "## Remove prompt pulse Demo\n",
    "<div class=\"alert alert-block alert-info\">\n",
    "    \n",
    "<p> <b>Information:</b> This notebook shows a developed <code>scipp</code> function for \"removing prompt pulses\" and compares its output to those from Mantid's original algorithm.</p>\n",
    "    \n",
    "<p><b>Requirements:</b> To run this notebook, you need <code>mantid</code>, <code>scipp</code> and <code>numpy</code> installed as well as the Python script <code>remove_prompt_pulses.py</code> placed in the same folder as this notebook.</p>\n",
    "    \n",
    "<p>The required datafile is available from Mantid: <a href=\"http://198.74.56.37/ftp/external-data/MD5/d5ae38871d0a09a28ae01f85d969de1e\">PG3_4844_event.nxs</a>. Once downloaded the file should be renamed and placed in the same folder as this notebook.</p>\n",
    "</div>"
   ]
  },
  {
   "cell_type": "code",
   "execution_count": null,
   "id": "ada050c5-14a3-4eb9-a504-4fee91baa194",
   "metadata": {},
   "outputs": [],
   "source": [
    "import mantid.simpleapi as mapi\n",
    "import numpy as np\n",
    "import scipp as sc\n",
    "import scippneutron as scn\n",
    "\n",
    "import remove_prompt_pulses\n",
    "\n",
    "input_file = 'PG3_4844_event.nxs'"
   ]
  },
  {
   "cell_type": "markdown",
   "id": "dba10594-1975-447c-b526-f506fa558aa2",
   "metadata": {
    "tags": []
   },
   "source": [
    "### Mantid\n",
    "#### Load datafile and apply `RemovePromptPulse`\n",
    "With `width=50`, counts with `16667 <= time-of-flight <= 16717 microseconds` should be masked. This time-of-flight range has been checked in Mantid's log when running the following two algorithms in MantidWorkbench."
   ]
  },
  {
   "cell_type": "code",
   "execution_count": null,
   "id": "c5bfab16-8954-4f02-8d26-64edd57da205",
   "metadata": {},
   "outputs": [],
   "source": [
    "ws = mapi.Load(input_file)\n",
    "wsout = mapi.RemovePromptPulse(ws, width=50)"
   ]
  },
  {
   "cell_type": "code",
   "execution_count": null,
   "id": "6505ad54-31ff-44cc-a7fe-7d4a9f2595a9",
   "metadata": {},
   "outputs": [],
   "source": [
    "nb_hist = ws.getNumberHistograms()\n",
    "nb_hist"
   ]
  },
  {
   "cell_type": "markdown",
   "id": "b1c4d7ec-9fd4-4455-9bde-f10f01b1ef8b",
   "metadata": {},
   "source": [
    "#### Check the number of events removed"
   ]
  },
  {
   "cell_type": "code",
   "execution_count": null,
   "id": "04936e01-49d5-4cd0-ab22-541b3c142b04",
   "metadata": {},
   "outputs": [],
   "source": [
    "total_events_removed = 0\n",
    "\n",
    "for i in range(nb_hist):\n",
    "    evList = ws.getSpectrum(i)\n",
    "    nb_events = evList.getNumberEvents()\n",
    "    if nb_events != 0:\n",
    "        total_events_removed += (nb_events - wsout.getSpectrum(i).getNumberEvents())\n",
    "\n",
    "print(f\"{total_events_removed} events have been removed after applying `RemovePromptPulse`.\")"
   ]
  },
  {
   "cell_type": "markdown",
   "id": "d3d44a01-c0dc-4036-a5b3-1191f38bf35e",
   "metadata": {
    "tags": []
   },
   "source": [
    "### Scipp\n",
    "\n",
    "Since the behaviour of `RemovePromptPulse` in `Mantid` is not fully understood (see comment above), the output of `remove_prompt_pulse` will be checked \"by hand\"."
   ]
  },
  {
   "cell_type": "code",
   "execution_count": null,
   "id": "512100d2-2c55-491c-9087-9215447bf2bc",
   "metadata": {},
   "outputs": [],
   "source": [
    "# Loading data and applying `remove_prompt_pulses`\n",
    "sample = scn.load(input_file)\n",
    "sample_out = remove_prompt_pulses.remove_prompt_pulses(sample, 50)"
   ]
  },
  {
   "cell_type": "markdown",
   "id": "92239f4c-6041-464f-9863-768473fdab2e",
   "metadata": {},
   "source": [
    "The range of tof values to mask is the same as in Mantid. The output dataset has a new  mask `prompt-pulse-bin`."
   ]
  },
  {
   "cell_type": "code",
   "execution_count": null,
   "id": "a4bf21c4-3903-42d9-ad27-605673ee38fd",
   "metadata": {},
   "outputs": [],
   "source": [
    "sample_out"
   ]
  },
  {
   "cell_type": "markdown",
   "id": "06456104-f7c5-4ba8-8c72-c7158f16faea",
   "metadata": {},
   "source": [
    "#### Check number of events removed"
   ]
  },
  {
   "cell_type": "code",
   "execution_count": null,
   "id": "6a1b4494-56b6-4cc6-b015-0801fa716046",
   "metadata": {},
   "outputs": [],
   "source": [
    "counts_masked_dataset = sc.sum(sample_out.bins.size()).data.value\n",
    "counts_ini_dataset = sc.sum(sample.bins.size()).data.value\n",
    "\n",
    "print(f\"{counts_ini_dataset-counts_masked_dataset} events have been removed by remove_prompt_pulse\")"
   ]
  },
  {
   "cell_type": "markdown",
   "id": "8b9e116c-26dc-4af3-9caa-8f279c655480",
   "metadata": {},
   "source": [
    "### Conclusion\n",
    "\n",
    "The number of masked events is the same in scipp and mantid."
   ]
  },
  {
   "cell_type": "code",
   "execution_count": null,
   "id": "33024a06-e0c3-4f57-a4e6-29f6a1477a36",
   "metadata": {},
   "outputs": [],
   "source": []
  }
 ],
 "metadata": {
  "kernelspec": {
   "display_name": "Python 3 (ipykernel)",
   "language": "python",
   "name": "python3"
  },
  "language_info": {
   "codemirror_mode": {
    "name": "ipython",
    "version": 3
   },
   "file_extension": ".py",
   "mimetype": "text/x-python",
   "name": "python",
   "nbconvert_exporter": "python",
   "pygments_lexer": "ipython3",
   "version": "3.8.10"
  }
 },
 "nbformat": 4,
 "nbformat_minor": 5
}
