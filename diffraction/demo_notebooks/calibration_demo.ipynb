{
 "cells": [
  {
   "cell_type": "markdown",
   "id": "d35f981e-2889-4ddb-92a2-d3201386f334",
   "metadata": {
    "tags": []
   },
   "source": [
    "# Calibration Demo\n",
    "\n",
    "<div class=\"alert alert-block alert-info\">\n",
    "<p><b>Information:</b> This notebook shows a developed <code>scipp</code> function for calibrating data and compared its output to those from <code>Mantid</code>'s original algorithms.</p>\n",
    "    \n",
    "<p>We use the following equation to convert units between <i>tof</i> and <i>d-spacing</i> ($d$): $TOF = DIFC * d + DIFA * d^2 + TZERO$, where $DIFC$, $DIFA$ and $TZERO$ are stored in the calibration file.</p> \n",
    "    \n",
    "<p>We first compare the structure of the calibration data and then the data after converting from time-of-flight to d-spacing taking calibration into account.</p>  \n",
    "      \n",
    "<p><b>Requirements:</b> To run this notebook, you need <code>mantid</code>, <code>scipp</code>, <code>scippneutron</code> and <code>numpy</code> installed as well as the Python script <code>calibration.py</code> placed in the same folder as this notebook. </p>\n",
    "  \n",
    "The required datafiles are available from Mantid:\n",
    "<ul>\n",
    "<li> detectors calibration file <a href=\"http://198.74.56.37/ftp/external-data/MD5/c181221ebef9fcf30114954268c7a6b6\">PG3_FERNS_d4832_2011_08_24.cal</a></li>\n",
    "<li> sample run <a href=\"http://198.74.56.37/ftp/external-data/MD5/d5ae38871d0a09a28ae01f85d969de1e\">PG3_4844_event.nxs</a></li>\n",
    "</ul>\n",
    "Once downloaded the files should be renamed and placed in the same folder as this notebook.\n",
    "</div>"
   ]
  },
  {
   "cell_type": "code",
   "execution_count": null,
   "id": "b59e827b-63ea-41e0-9019-bee41b61ee44",
   "metadata": {},
   "outputs": [],
   "source": [
    "import numpy as np\n",
    "import mantid.simpleapi as mapi\n",
    "import scipp as sc\n",
    "import scippneutron as scn\n",
    "\n",
    "import calibration\n",
    "\n",
    "sample_file = 'PG3_4844_event.nxs'\n",
    "calibration_file = 'PG3_FERNS_d4832_2011_08_24.cal'"
   ]
  },
  {
   "cell_type": "markdown",
   "id": "17b718ab-ac8f-4bb7-a358-a8f3228a77c7",
   "metadata": {},
   "source": [
    "## Mantid\n",
    "### Load sample and calibration"
   ]
  },
  {
   "cell_type": "code",
   "execution_count": null,
   "id": "b62d4eee-beb8-4bc0-93fd-c74a8458bab0",
   "metadata": {},
   "outputs": [],
   "source": [
    "sample_mantid = mapi.Load(sample_file)"
   ]
  },
  {
   "cell_type": "code",
   "execution_count": null,
   "id": "95eac5c2-cba7-4048-afca-d4ed94abc546",
   "metadata": {},
   "outputs": [],
   "source": [
    "mapi.LoadDiffCal(Filename=calibration_file, \n",
    "                 InstrumentFilename='POWGEN_Definition_2011-02-25.xml',\n",
    "                 WorkspaceName='PG3')"
   ]
  },
  {
   "cell_type": "markdown",
   "id": "b9da6dc9-4faf-4fcd-8697-af0d44733292",
   "metadata": {},
   "source": [
    "### Characteristics of the `cal` tableworkspace"
   ]
  },
  {
   "cell_type": "code",
   "execution_count": null,
   "id": "28aeaedd-7325-4ae4-abe9-3404fcbf53bc",
   "metadata": {},
   "outputs": [],
   "source": [
    "print(f\"Number of columns: {mapi.mtd['PG3_cal'].columnCount()}\")  # 4\n",
    "print(f\"Column names: {mapi.mtd['PG3_cal'].getColumnNames()}\") # ['detid', 'difc', 'difa', 'tzero']\n",
    "print(f\"Column types: {mapi.mtd['PG3_cal'].columnTypes()}\")  # ['int', 'double', 'double', 'double']\n",
    "print(f\"Number of rows: {mapi.mtd['PG3_cal'].rowCount()}\") # 24794\n",
    "\n",
    "print(f\"First and last values of {mapi.mtd['PG3_cal'].getColumnNames()[0]}: {mapi.mtd['PG3_cal'].column(0)[0]}, {mapi.mtd['PG3_cal'].column(0)[-1]}\")\n",
    "print(f\"First and last values of {mapi.mtd['PG3_cal'].getColumnNames()[1]}: {mapi.mtd['PG3_cal'].column(1)[0]}, {mapi.mtd['PG3_cal'].column(1)[-1]}\")\n",
    "print(f\"First and last values of {mapi.mtd['PG3_cal'].getColumnNames()[2]}: {mapi.mtd['PG3_cal'].column(2)[0]}, {mapi.mtd['PG3_cal'].column(2)[-1]}\")\n",
    "print(f\"First and last values of {mapi.mtd['PG3_cal'].getColumnNames()[3]}: {mapi.mtd['PG3_cal'].column(3)[0]}, {mapi.mtd['PG3_cal'].column(3)[-1]}\")"
   ]
  },
  {
   "cell_type": "markdown",
   "id": "b3d69308-e398-4c05-bc14-c46753e3c811",
   "metadata": {},
   "source": [
    "### Convert taking calibration into account"
   ]
  },
  {
   "cell_type": "code",
   "execution_count": null,
   "id": "0e879e89-766e-4193-a1ed-ba5591cb93d1",
   "metadata": {},
   "outputs": [],
   "source": [
    "mapi.AlignDetectors(InputWorkspace=sample_mantid,\n",
    "                    OutputWorkspace='PG3_4844_cal',\n",
    "                    CalibrationWorkspace='PG3_cal')"
   ]
  },
  {
   "cell_type": "code",
   "execution_count": null,
   "id": "1d7a05b9-4688-4d69-8577-fe235ad95eec",
   "metadata": {},
   "outputs": [],
   "source": [
    "print((f\"Spectrum numbers stored in calibration (first, last):\"\n",
    "      f\"{mapi.mtd['PG3_4844_cal'].getSpectrumNumbers()[0]} \"\n",
    "      f\"{mapi.mtd['PG3_4844_cal'].getSpectrumNumbers()[-1]}\"))"
   ]
  },
  {
   "cell_type": "code",
   "execution_count": null,
   "id": "44f21596-2640-4878-a955-818265bcaf4e",
   "metadata": {},
   "outputs": [],
   "source": [
    "print('------------Input workspace-----------')\n",
    "print(f\"Unit for x-axis: {mapi.mtd['sample_mantid'].getXDimension().name}\") # Time-of_flight\n",
    "print(f\"Unit for y-axis: {mapi.mtd['sample_mantid'].getYDimension().name}\") # Spectrum\n",
    "print(f\"Number of events: {mapi.mtd['sample_mantid'].getNumberEvents()}\") # 17926980\n",
    "print(f\"Number of histograms: {mapi.mtd['sample_mantid'].getNumberHistograms()}\") # 24794\n",
    "\n",
    "print((f\"First and last values of x-axis: {mapi.mtd['sample_mantid'].readX(0)[0]} \"\n",
    "       f\"{mapi.mtd['sample_mantid'].readX(0)[-1]}\"))\n",
    "\n",
    "print('------------Output workspace------------')\n",
    "print(f\"Unit for x-axis: {mapi.mtd['PG3_4844_cal'].getXDimension().name}\") # d-Spacing\n",
    "print(f\"Unit for y-axis: {mapi.mtd['PG3_4844_cal'].getYDimension().name}\") # Spectrum\n",
    "print(f\"Number of events: {mapi.mtd['PG3_4844_cal'].getNumberEvents()}\") # 17926980\n",
    "print(f\"Number of histograms: {mapi.mtd['PG3_4844_cal'].getNumberHistograms()}\") # 24794\n",
    "\n",
    "print((f\"First and last values of x-axis: {mapi.mtd['PG3_4844_cal'].readX(0)[0]} \"\n",
    "       f\"{mapi.mtd['PG3_4844_cal'].readX(0)[-1]}\"))"
   ]
  },
  {
   "cell_type": "code",
   "execution_count": null,
   "id": "d9654884-043e-403b-a3aa-10629052bbbb",
   "metadata": {},
   "outputs": [],
   "source": [
    "# Compare y-values of input and output workspaces for a spectrum.\n",
    "# they should be the same since only the x-axis is modified (tof -> d-spacing)\n",
    "spectrum_index = 550\n",
    "print((f\"Are the count values the same for the input and output of AlignDetectors \"\n",
    "       f\"for spectrum {spectrum_index}?\"))\n",
    "all([mapi.mtd['PG3_4844_cal'].readY(spectrum_index)[i]==mapi.mtd['sample_mantid'].readY(spectrum_index)[i]] \n",
    "    for i in range(len(mapi.mtd['PG3_4844_cal'].readY(spectrum_index))))"
   ]
  },
  {
   "cell_type": "markdown",
   "id": "a485ff60-1479-4965-9220-b0aba67e2760",
   "metadata": {},
   "source": [
    "### In scipp\n",
    "#### Load sample and calibration"
   ]
  },
  {
   "cell_type": "code",
   "execution_count": null,
   "id": "4bdcced7-37f6-4a72-8af7-f799ae96a86d",
   "metadata": {},
   "outputs": [],
   "source": [
    "sample = scn.load(sample_file,\n",
    "                  advanced_geometry=True,\n",
    "                  load_pulse_times=False,\n",
    "                  mantid_args={'LoadMonitors': True})\n",
    "sample"
   ]
  },
  {
   "cell_type": "code",
   "execution_count": null,
   "id": "bb54bd6e-7358-4c82-bba2-3e5fe3f222db",
   "metadata": {},
   "outputs": [],
   "source": [
    "cal = calibration.load_calibration(calibration_file,\n",
    "                                   mantid_args={'InstrumentFilename': 'POWGEN_Definition_2011-02-25.xml'})"
   ]
  },
  {
   "cell_type": "code",
   "execution_count": null,
   "id": "2bd10639-1804-47c7-ac63-ffc94a136e2d",
   "metadata": {},
   "outputs": [],
   "source": [
    "cal"
   ]
  },
  {
   "cell_type": "markdown",
   "id": "4c07e7b5-f77d-4a9c-99f0-63a2aaff4b62",
   "metadata": {},
   "source": [
    "#### Characteristics of the `cal` dataset\n",
    "\n",
    "The output of `calibration.load_calibration` in `scipp` is a dataset, which contains `group`, `mask` and the values of `difa`, `difc` and `tzero` used to convert time-of-flight to d-spacing. In `Mantid`, 3 workspaces are generated "
   ]
  },
  {
   "cell_type": "code",
   "execution_count": null,
   "id": "f6ee4292-ebfb-4ab8-93b0-dbbf8e389290",
   "metadata": {},
   "outputs": [],
   "source": [
    "set(cal.keys()) == set(['mask', 'difc', 'tzero', 'difa', 'group'])"
   ]
  },
  {
   "cell_type": "code",
   "execution_count": null,
   "id": "376cefca-e8bc-4739-8b25-621bdc35a715",
   "metadata": {},
   "outputs": [],
   "source": [
    "print(f\"Number of rows: {len(cal['difa'].values)}\") # 24794\n",
    "print((f\"First and last values of detectors' ids: {cal.coords['detector'].values[0]}, \"\n",
    "      f\"{cal.coords['detector'].values[-1]}\"))\n",
    "print(f\"First and last values of difc: {cal['difc'].values[0]}, {cal['difc'].values[-1]}\")\n",
    "print(f\"First and last values of difa: {cal['difa'].values[0]}, {cal['difa'].values[-1]}\")\n",
    "print(f\"First and last values of tzero: {cal['tzero'].values[0]}, {cal['tzero'].values[0-1]}\")"
   ]
  },
  {
   "cell_type": "markdown",
   "id": "fcf2fb99-a004-49c2-bfcc-f7dfc29bdde6",
   "metadata": {},
   "source": [
    "#### Convert with calibration"
   ]
  },
  {
   "cell_type": "code",
   "execution_count": null,
   "id": "1e63a78a-6b6a-417c-8a46-b42b729c4f21",
   "metadata": {},
   "outputs": [],
   "source": [
    "sample_dspacing = calibration.convert_with_calibration(sample, cal)\n",
    "sample_dspacing"
   ]
  },
  {
   "cell_type": "code",
   "execution_count": null,
   "id": "afee5966-eb6e-4adb-8702-dc3ee0c5d7b5",
   "metadata": {},
   "outputs": [],
   "source": [
    "print('------------Input dataset-----------')\n",
    "print(f\"Units for axes: {sample.dims}\") # spectrum, tof\n",
    "print(f\"Number of events: {np.sum(sample.bins.constituents['data'].values):.0f}\") # 17926980\n",
    "print(f\"Number of spectra: {len(sample.coords['spectrum'].values)}\") # 24794\n",
    "\n",
    "print((f\"First and last values of x-axis: {sample.coords['tof'].values[0]} \"\n",
    "       f\"{sample.coords['tof'].values[-1]}\"))\n",
    "\n",
    "print('------------Output dataset------------')\n",
    "print(f\"Unit for axes: {sample_dspacing.dims}\") # spectrum, d-Spacing\n",
    "print(f\"Number of events: {np.sum(sample_dspacing.bins.constituents['data'].values):.0f}\") # 17926980\n",
    "print(f\"Number of spectra: {len(sample_dspacing.coords['spectrum'].values)}\") # 24794\n",
    "\n",
    "print((f\"First and last values of x-axis: {sample_dspacing.coords['dspacing'].values[0]} \"\n",
    "      f\"{sample_dspacing.coords['dspacing'].values[-1]}\"))"
   ]
  },
  {
   "cell_type": "markdown",
   "id": "826457a5-192c-4aee-b762-d1406fc14d76",
   "metadata": {},
   "source": [
    "### Converting manually\n",
    "The formula to use is `d-spacing` = (`tof` - `tzero`) / `difc` since `difa=0` in the calibration file used for testing.  \n",
    "The values of `tzero` and `difc` are read from the calibration file."
   ]
  },
  {
   "cell_type": "code",
   "execution_count": null,
   "id": "49235806-ab63-40b7-b011-2774ec6b7175",
   "metadata": {},
   "outputs": [],
   "source": [
    "# We check that the values of difa are all equal to 0\n",
    "all([item==0 for item in cal['difa'].values])"
   ]
  },
  {
   "cell_type": "code",
   "execution_count": null,
   "id": "3655359f-6087-4c60-9659-8f017134b243",
   "metadata": {},
   "outputs": [],
   "source": [
    "# we express 1/difc in Angstrom / microseconds\n",
    "mult_difc = sc.to_unit(1 * sc.units.one/cal[\"difc\"].data, unit='angstrom/us')\n",
    "mult_difc"
   ]
  },
  {
   "cell_type": "code",
   "execution_count": null,
   "id": "d0fbe983-80cb-415a-ad61-9fd063df60f4",
   "metadata": {},
   "outputs": [],
   "source": [
    "# check if coefficient contains any NaN\n",
    "np.any(np.isnan(mult_difc.values))"
   ]
  },
  {
   "cell_type": "code",
   "execution_count": null,
   "id": "8c96b327-87a3-4d58-a699-5848fee14a12",
   "metadata": {},
   "outputs": [],
   "source": [
    "# Convert tof axis to spacing\n",
    "tof2dspacing = (sample.coords['tof'] - cal[\"tzero\"].data) / cal[\"difc\"].data\n",
    "tof2dspacing"
   ]
  },
  {
   "cell_type": "code",
   "execution_count": null,
   "id": "6a301959-5f2c-4a07-b506-21232f23a923",
   "metadata": {},
   "outputs": [],
   "source": [
    "# Comparing x-axis (d-spacing) from manual conversion and output of convert_with_calibration\n",
    "all(tof2dspacing.values[0,:] == sample_dspacing.coords['dspacing'].values[:,0]) & all(tof2dspacing.values[1,:] == sample_dspacing.coords['dspacing'].values[:,1])"
   ]
  },
  {
   "cell_type": "code",
   "execution_count": null,
   "id": "45e46918-358f-43be-b435-d6ecb2194c1f",
   "metadata": {},
   "outputs": [],
   "source": []
  }
 ],
 "metadata": {
  "kernelspec": {
   "display_name": "Python 3 (ipykernel)",
   "language": "python",
   "name": "python3"
  },
  "language_info": {
   "codemirror_mode": {
    "name": "ipython",
    "version": 3
   },
   "file_extension": ".py",
   "mimetype": "text/x-python",
   "name": "python",
   "nbconvert_exporter": "python",
   "pygments_lexer": "ipython3",
   "version": "3.8.10"
  }
 },
 "nbformat": 4,
 "nbformat_minor": 5
}
