{
 "cells": [
  {
   "cell_type": "markdown",
   "metadata": {},
   "source": [
    "## Spline-background Demo\n",
    "<div class=\"alert alert-block alert-info\">\n",
    "\n",
    "<p><b>Information:</b> This notebook shows behaviour of the background spline method implemented in <code>scipp</code>.<br> \n",
    "A random, noisy dataset is generated from a gaussian distribution. A second non-random dataset is generated as well.<br>\n",
    "Splines for both cases are generated with <code>scipp</code> and <code>Mantid</code> and compared and plotted.</p>\n",
    "\n",
    "<p><b>Requirements:</b> To run this notebook, you need <code>mantid</code>, <code>scipp</code>, <code>matplotlib</code> and <code>numpy</code> installed as well as the Python script <code>spline_background.py.</code> placed in the same folder as this notebook.</p>\n",
    "</div>"
   ]
  },
  {
   "cell_type": "code",
   "execution_count": null,
   "metadata": {},
   "outputs": [],
   "source": [
    "import matplotlib.pyplot as plt\n",
    "plt.rcParams['figure.figsize'] = [10, 8]\n",
    "%matplotlib notebook\n",
    "\n",
    "import numpy as np\n",
    "import mantid.simpleapi as mapi\n",
    "import scipp as sc\n",
    "\n",
    "import spline_background"
   ]
  },
  {
   "cell_type": "code",
   "execution_count": null,
   "metadata": {},
   "outputs": [],
   "source": [
    "# Create a workspace with Gaussian peak\n",
    "x = np.arange(30)\n",
    "y0 = 20. + 50. * np.exp(-(x - 8.)**2. / 120.)\n",
    "err0 = np.sqrt(y0)\n",
    "\n",
    "y = y0 + err0 * np.random.normal(size=len(err0))\n",
    "err = np.sqrt(y)\n",
    "\n",
    "# Create Mantid workspace\n",
    "w_1 = mapi.CreateWorkspace(DataX=x, \n",
    "                           DataY=y, \n",
    "                           DataE=err, \n",
    "                           NSpec=1, \n",
    "                           UnitX='tof')"
   ]
  },
  {
   "cell_type": "code",
   "execution_count": null,
   "metadata": {},
   "outputs": [],
   "source": [
    "# Create a damped sinusoidal example\n",
    "N = 100\n",
    "x_2 = np.arange(N)\n",
    "y_20 = np.zeros(N)\n",
    "y_2 = y_20\n",
    "\n",
    "for i, item in enumerate(y_2):\n",
    "    xi = (15. / (N-1)) * i\n",
    "    y_2[i] = np.cos(xi) * np.exp(-0.1 * xi)\n",
    "    \n",
    "err_2 = np.sqrt(y_2 * y_2)\n",
    "\n",
    "# Create Mantid workspace\n",
    "w_2 = mapi.CreateWorkspace(DataX=x_2, \n",
    "                           DataY=y_2, \n",
    "                           DataE=err_2, \n",
    "                           NSpec=1, \n",
    "                           UnitX='tof')    "
   ]
  },
  {
   "cell_type": "code",
   "execution_count": null,
   "metadata": {},
   "outputs": [],
   "source": [
    "def plot_mantid_spline(w, x, y):\n",
    "    \"\"\" \n",
    "    Plot of original data with input and output of Mantid's SplineBackground \n",
    "    \n",
    "    w: Mantid workspace to be plotted\n",
    "    \n",
    "    x: x-values of the original data (without noise)\n",
    "    \n",
    "    y: y-values of the original data (without noise)\n",
    "    \"\"\"\n",
    "    fig, ax = plt.subplots()\n",
    "    ax.plot(x, y, 'k', label='Original data')\n",
    "    ax.plot(w.readX(0), w.readY(0), 'x', label='Original noisy data') # plot the initial distribution with black line\n",
    "\n",
    "    spline = mapi.SplineBackground(w)\n",
    "    ax.plot(spline.readX(0), spline.readY(0), label='Splined data')\n",
    "    \n",
    "    ax.grid()\n",
    "    ax.legend()\n",
    "    ax.set_title('Mantid')\n",
    "    ax.set_xlabel('Time-of-flight ($\\mu$s)')"
   ]
  },
  {
   "cell_type": "markdown",
   "metadata": {},
   "source": [
    "### Reference Mantid plot, SplineBackground method"
   ]
  },
  {
   "cell_type": "code",
   "execution_count": null,
   "metadata": {},
   "outputs": [],
   "source": [
    "plot_mantid_spline(w_1, x, y0)"
   ]
  },
  {
   "cell_type": "markdown",
   "metadata": {},
   "source": [
    "### Comparison between Mantid SplineBackground and scipp spline_background methods"
   ]
  },
  {
   "cell_type": "code",
   "execution_count": null,
   "metadata": {},
   "outputs": [],
   "source": [
    "def plot_comparison(x, y, err):\n",
    "    \"\"\"\n",
    "    Compare output of spline from Mantid and scipp with input\n",
    "     \n",
    "    x: x-values of input data \n",
    "    \n",
    "    y: y-values of input data\n",
    "    \n",
    "    err: err-values of input datta\n",
    "\n",
    "    \"\"\"\n",
    "    fig, ax = plt.subplots()\n",
    "    \n",
    "    # plot the initial distribution with black line\n",
    "    ax.plot(x, y, 'kx', label='input') \n",
    "    \n",
    "    # scipp: calculate input dataset, calculate spline and plot output\n",
    "    da = sc.DataArray(data=sc.Variable(dims=['x'], \n",
    "                                       values=y,\n",
    "                                       variances=err**2), \n",
    "                      coords={'x': sc.Variable(dims=['x'],\n",
    "                                               values=x)}\n",
    "                     )\n",
    "\n",
    "    output_array = spline_background.bspline_background(da, 'x', smoothing_factor=1)\n",
    "    x_sp = output_array.coords['x'].values\n",
    "    y_sp = output_array.values    \n",
    "    \n",
    "    ax.plot(x_sp, y_sp, 'r-', label='scipp spline') \n",
    "    \n",
    "    # mantid: calculate input dataset, calculate spline and plot output\n",
    "  \n",
    "    w= mapi.CreateWorkspace(DataX=x, \n",
    "                           DataY=y, \n",
    "                           DataE=err, \n",
    "                           NSpec=1, \n",
    "                           UnitX='tof')\n",
    "    \n",
    "    output_mantid = mapi.SplineBackground(w, NCoeff=20)\n",
    "    ax.plot(output_mantid.readX(0), output_mantid.readY(0), 'b-', label='mantid spline') # plot the mantid spline\n",
    "    \n",
    "    ax.grid()\n",
    "    ax.legend()\n",
    "    ax.set_title('Scipp and Mantid')\n",
    "    ax.set_xlabel('Time-of-flight ($\\mu$s)')"
   ]
  },
  {
   "cell_type": "code",
   "execution_count": null,
   "metadata": {},
   "outputs": [],
   "source": [
    "plot_comparison(x, y, err)"
   ]
  },
  {
   "cell_type": "code",
   "execution_count": null,
   "metadata": {},
   "outputs": [],
   "source": [
    "plot_comparison(x_2, y_2, err_2)"
   ]
  },
  {
   "cell_type": "code",
   "execution_count": null,
   "metadata": {},
   "outputs": [],
   "source": []
  }
 ],
 "metadata": {
  "kernelspec": {
   "display_name": "Python 3 (ipykernel)",
   "language": "python",
   "name": "python3"
  },
  "language_info": {
   "codemirror_mode": {
    "name": "ipython",
    "version": 3
   },
   "file_extension": ".py",
   "mimetype": "text/x-python",
   "name": "python",
   "nbconvert_exporter": "python",
   "pygments_lexer": "ipython3",
   "version": "3.9.7"
  },
  "toc": {
   "base_numbering": 1,
   "nav_menu": {},
   "number_sections": true,
   "sideBar": true,
   "skip_h1_title": false,
   "title_cell": "Table of Contents",
   "title_sidebar": "Contents",
   "toc_cell": false,
   "toc_position": {},
   "toc_section_display": true,
   "toc_window_display": false
  },
  "varInspector": {
   "cols": {
    "lenName": 16,
    "lenType": 16,
    "lenVar": 40
   },
   "kernels_config": {
    "python": {
     "delete_cmd_postfix": "",
     "delete_cmd_prefix": "del ",
     "library": "var_list.py",
     "varRefreshCmd": "print(var_dic_list())"
    },
    "r": {
     "delete_cmd_postfix": ") ",
     "delete_cmd_prefix": "rm(",
     "library": "var_list.r",
     "varRefreshCmd": "cat(var_dic_list()) "
    }
   },
   "types_to_exclude": [
    "module",
    "function",
    "builtin_function_or_method",
    "instance",
    "_Feature"
   ],
   "window_display": false
  }
 },
 "nbformat": 4,
 "nbformat_minor": 4
}
