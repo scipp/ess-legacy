{
 "cells": [
  {
   "cell_type": "markdown",
   "metadata": {},
   "source": [
    "# Testing Mantid's CylindricalAbsorption wrapper\n",
    "<div class=\"alert alert-block alert-info\">\n",
    "<p><b>Information:</b> This notebook shows how to use <code>scipp</code>'s implementation of <code>Mantid</code>'s <code>CylinderAbsorption</code> algorithm.</p>\n",
    "\n",
    "<p><b>Requirements:</b> To run this notebook, you need <code>scippneutron</code> installed as well as the Python script <code>absorption.py</code> placed in the same folder as this notebook.</p>\n",
    "        \n",
    "The test file is available from Mantid: <a href=\"http://198.74.56.37/ftp/external-data/MD5/d5ae38871d0a09a28ae01f85d969de1e\">PG3_4844_event.nxs</a>. Once downloaded the file should be renamed and placed in the same folder.\n",
    "</div>"
   ]
  },
  {
   "cell_type": "code",
   "execution_count": null,
   "metadata": {},
   "outputs": [],
   "source": [
    "import numpy as np\n",
    "import scipp as sc\n",
    "import scippneutron as scn\n",
    "\n",
    "from absorption import absorption_correction\n",
    "\n",
    "filename = \"PG3_4844_event.nxs\""
   ]
  },
  {
   "cell_type": "markdown",
   "metadata": {},
   "source": [
    "## Loading data "
   ]
  },
  {
   "cell_type": "code",
   "execution_count": null,
   "metadata": {},
   "outputs": [],
   "source": [
    "dataset = scn.load(filename=filename)\n",
    "dataset"
   ]
  },
  {
   "cell_type": "markdown",
   "metadata": {},
   "source": [
    "The file is loaded as a `DataArray` with following sizes:"
   ]
  },
  {
   "cell_type": "code",
   "execution_count": null,
   "metadata": {},
   "outputs": [],
   "source": [
    "print(f\"Dataset's dimensions: {dataset.dims} and shape: {dataset.shape}.\")"
   ]
  },
  {
   "cell_type": "code",
   "execution_count": null,
   "metadata": {},
   "outputs": [],
   "source": [
    "dataset_lambda = scn.convert(dataset, 'tof', 'wavelength', scatter=True)\n",
    "dataset_lambda"
   ]
  },
  {
   "cell_type": "code",
   "execution_count": null,
   "metadata": {},
   "outputs": [],
   "source": [
    "print((f\"The dataset to be corrected from absorption has dimensions:\" \n",
    "       f\"{dataset_lambda.dims} and shape: {dataset_lambda.shape}.\"))"
   ]
  },
  {
   "cell_type": "markdown",
   "metadata": {},
   "source": [
    "## Defining absorption parameters\n",
    "\n",
    "Our absorption should be calculated for the sample."
   ]
  },
  {
   "cell_type": "code",
   "execution_count": null,
   "metadata": {},
   "outputs": [],
   "source": [
    "scatter_from = \"Sample\""
   ]
  },
  {
   "cell_type": "markdown",
   "metadata": {},
   "source": [
    "## Calculating absorption\n",
    "\n",
    "Now we are ready to calculate the correction, passing the sample definition and example cylinder dimensions to the calculator.\n",
    "We need these, since the data file contains no sample definition.\n",
    "This calculation takes some time."
   ]
  },
  {
   "cell_type": "code",
   "execution_count": null,
   "metadata": {},
   "outputs": [],
   "source": [
    "correction = absorption_correction(filename,\n",
    "                                   ScatterFrom=scatter_from,\n",
    "                                   CylinderSampleHeight=3,\n",
    "                                   CylinderSampleRadius=10)"
   ]
  },
  {
   "cell_type": "markdown",
   "metadata": {},
   "source": [
    "<!-- The correction dataset uses wavelengths units, so we need to convert it back to time-of-flight, as in the original sample. -->\n",
    "The sample dataset is converted to wavelengths units before normalizing "
   ]
  },
  {
   "cell_type": "markdown",
   "metadata": {},
   "source": [
    "The absorption correction has been calculated to match the input dataset over bins ranging from"
   ]
  },
  {
   "cell_type": "code",
   "execution_count": null,
   "metadata": {},
   "outputs": [],
   "source": [
    "correction.coords['spectrum'].values[0]"
   ]
  },
  {
   "cell_type": "markdown",
   "metadata": {},
   "source": [
    "to"
   ]
  },
  {
   "cell_type": "code",
   "execution_count": null,
   "metadata": {},
   "outputs": [],
   "source": [
    "correction.coords['spectrum'].values[-1]"
   ]
  },
  {
   "cell_type": "markdown",
   "metadata": {},
   "source": [
    "## More complex parameter definition\n",
    "\n",
    "We may also define other parameters required for Mantid's algorithm."
   ]
  },
  {
   "cell_type": "code",
   "execution_count": null,
   "metadata": {},
   "outputs": [],
   "source": [
    "sample_number_density = 0.07192\n",
    "number_wavelength_points = 5\n",
    "cylinder_sample_height = 4\n",
    "cylinder_sample_radius = 0.4\n",
    "number_of_slices = 2\n",
    "attenuation_x_section = 5.08\n",
    "scattering_x_section = 5.1\n",
    "\n",
    "# We use the minimum and maximum values of the wavelength's coordinates of the sample in order to calculate the absorption\n",
    "min_lambda = np.min(dataset_lambda.bins.constituents['data'].coords['wavelength'].values)\n",
    "max_lambda = np.max(dataset_lambda.bins.constituents['data'].coords['wavelength'].values)"
   ]
  },
  {
   "cell_type": "markdown",
   "metadata": {},
   "source": [
    "These parameters can just be appended to the `absorption_correction` call."
   ]
  },
  {
   "cell_type": "code",
   "execution_count": null,
   "metadata": {},
   "outputs": [],
   "source": [
    "correction_with_params = absorption_correction(filename,\n",
    "                                   lambda_binning=(min_lambda, max_lambda, 2000),\n",
    "                                   ScatterFrom=scatter_from,\n",
    "                                   AttenuationXSection=attenuation_x_section,\n",
    "                                   ScatteringXSection=scattering_x_section,\n",
    "                                   SampleNumberDensity=sample_number_density,\n",
    "                                   NumberOfWavelengthPoints=number_wavelength_points,\n",
    "                                   CylinderSampleHeight=cylinder_sample_height,\n",
    "                                   CylinderSampleRadius=cylinder_sample_radius,\n",
    "                                   NumberOfSlices=number_of_slices)"
   ]
  },
  {
   "cell_type": "code",
   "execution_count": null,
   "metadata": {},
   "outputs": [],
   "source": [
    "correction"
   ]
  },
  {
   "cell_type": "code",
   "execution_count": null,
   "metadata": {},
   "outputs": [],
   "source": [
    "print((f\"Correction dataset's spectrum first and last values:\"\n",
    "       f\"{correction_with_params.coords['spectrum'].values[0]}, \"\n",
    "       f\"{correction_with_params.coords['spectrum'].values[-1]}.\"))"
   ]
  },
  {
   "cell_type": "markdown",
   "metadata": {},
   "source": [
    "Finally, we can apply the correction to the initial data array."
   ]
  },
  {
   "cell_type": "code",
   "execution_count": null,
   "metadata": {},
   "outputs": [],
   "source": [
    "dataset_lambda"
   ]
  },
  {
   "cell_type": "code",
   "execution_count": null,
   "metadata": {},
   "outputs": [],
   "source": [
    "correction_with_params"
   ]
  },
  {
   "cell_type": "code",
   "execution_count": null,
   "metadata": {},
   "outputs": [],
   "source": [
    "del correction_with_params.coords['source_position']\n",
    "del correction_with_params.coords['sample_position']\n",
    "del correction_with_params.coords['position']"
   ]
  },
  {
   "cell_type": "code",
   "execution_count": null,
   "metadata": {},
   "outputs": [],
   "source": [
    "np.max(correction_with_params.values)"
   ]
  },
  {
   "cell_type": "code",
   "execution_count": null,
   "metadata": {},
   "outputs": [],
   "source": [
    "corrected = dataset_lambda.bins / sc.lookup(func=correction_with_params, dim='wavelength')"
   ]
  },
  {
   "cell_type": "code",
   "execution_count": null,
   "metadata": {},
   "outputs": [],
   "source": [
    "corrected"
   ]
  },
  {
   "cell_type": "code",
   "execution_count": null,
   "metadata": {},
   "outputs": [],
   "source": [
    "sc.plot(corrected, title='Data after absorption corrrection')"
   ]
  },
  {
   "cell_type": "code",
   "execution_count": null,
   "metadata": {},
   "outputs": [],
   "source": [
    "sc.plot(dataset_lambda, title='Data before absorption corrrection')"
   ]
  },
  {
   "cell_type": "markdown",
   "metadata": {},
   "source": [
    "### 1D plot"
   ]
  },
  {
   "cell_type": "code",
   "execution_count": null,
   "metadata": {},
   "outputs": [],
   "source": [
    "lambda_bins =  sc.Variable(\n",
    "    dims=['wavelength'],\n",
    "    values=np.linspace(min_lambda, max_lambda, 2000),\n",
    "    unit=sc.units.angstrom)\n",
    "\n",
    "histo_ini = sc.histogram(dataset_lambda, bins=lambda_bins)\n",
    "histo_abs_corr = sc.histogram(corrected, bins=lambda_bins)"
   ]
  },
  {
   "cell_type": "code",
   "execution_count": null,
   "metadata": {},
   "outputs": [],
   "source": [
    "# select spectrum to plot\n",
    "spectr_nb = 1100\n",
    "\n",
    "sc.plot({'Ini': histo_ini['spectrum', spectr_nb].values, 'AbsCorr': histo_abs_corr['spectrum', spectr_nb].values}, \n",
    "        grid=True,\n",
    "        labels={'axis-0': 'wavelength (Angstrom)'},\n",
    "        title=f'Comparison of initial and absorption corrected spectrum {spectr_nb}')"
   ]
  },
  {
   "cell_type": "code",
   "execution_count": null,
   "metadata": {},
   "outputs": [],
   "source": []
  }
 ],
 "metadata": {
  "kernelspec": {
   "display_name": "Python 3 (ipykernel)",
   "language": "python",
   "name": "python3"
  },
  "language_info": {
   "codemirror_mode": {
    "name": "ipython",
    "version": 3
   },
   "file_extension": ".py",
   "mimetype": "text/x-python",
   "name": "python",
   "nbconvert_exporter": "python",
   "pygments_lexer": "ipython3",
   "version": "3.9.7"
  }
 },
 "nbformat": 4,
 "nbformat_minor": 4
}
