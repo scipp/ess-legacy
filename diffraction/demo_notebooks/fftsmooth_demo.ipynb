{
 "cells": [
  {
   "cell_type": "markdown",
   "id": "7d7e16a7-9236-4889-ab19-f968d2d65605",
   "metadata": {},
   "source": [
    "# FFTSmooth with POWGEN data \n",
    "<div class=\"alert alert-block alert-info\">\n",
    "<p><b>Information:</b> \n",
    "In this notebook we compare the implementation in <code>scipp</code> of <code>FFTSmooth</code> with the one available in <code>Mantid</code>. The implementation in <code>scipp</code> does not reproduce all the options available in <code>Mantid</code>. For example, the only filter available in <code>scipp</code> is <i>Butterworth</i>. </p> \n",
    "    \n",
    "The input datafile (Vanadium) <a href=\"http://198.74.56.37/ftp/external-data/MD5/3d543bc6a646e622b3f4542bc3435e7e\">PG3_4866_event.nxs</a> is part of <code>Mantid</code>'s test data. The input workspace is in units of <i>tof</i>.  \n",
    "\n",
    "In <code>Mantid</code> <code>FFTSmooth</code> does not preserve the <code>Eventworkspace</code> status. Therefore in <code>scipp</code> we use an histogrammed dataset as input. For comparison, we also rebin the input workspace in <code>Mantid</code>.  \n",
    "    \n",
    "<p><b>Requirements:</b>\n",
    "The Python script <code>fft_smooth.py</code>, which contains the implementation of <code>fft_smooth</code>, has to be in the same directory as this notebook.</p>\n",
    "    \n",
    "</div>"
   ]
  },
  {
   "cell_type": "markdown",
   "id": "f642b0cc-8f7f-4d42-a12c-98ebba91d43f",
   "metadata": {},
   "source": [
    "## Mantid\n",
    "\n",
    "We load Vanadium data, select a spectrum, rebin and apply [`FFTSmooth`](https://docs.mantidproject.org/nightly/algorithms/FFTSmooth-v2.html) with `IgnoreXbins=True`, $n=20$ (where $1/n$ is the truncation for the Fourier transform), and smoothing order $order=2$."
   ]
  },
  {
   "cell_type": "code",
   "execution_count": null,
   "id": "913f384f-31d8-4bcb-9708-2e20905f3e8d",
   "metadata": {},
   "outputs": [],
   "source": [
    "import mantid.simpleapi as mapi\n",
    "import numpy as np\n",
    "import scipp as sc\n",
    "\n",
    "filename = 'PG3_4866_event.nxs'"
   ]
  },
  {
   "cell_type": "code",
   "execution_count": null,
   "id": "09b12ef0-6350-48c1-990d-a366972529fc",
   "metadata": {},
   "outputs": [],
   "source": [
    "PG3_4866 = mapi.Load(Filename=filename)\n",
    "\n",
    "binned = mapi.Rebin(InputWorkspace=PG3_4866, params='0.,8.33,16666.67')"
   ]
  },
  {
   "cell_type": "code",
   "execution_count": null,
   "id": "d47bdf6a-3f68-4cd9-b2d9-91355ea0e1bd",
   "metadata": {},
   "outputs": [],
   "source": [
    "# extract 1 spectrum to plot\n",
    "binned551 = mapi.ExtractSingleSpectrum(binned, 550)\n",
    "ybin = binned551.readY(0)\n",
    "errbin = binned551.readE(0)\n",
    "x0 = binned551.readX(0)\n",
    "# center the bins for the x-axis\n",
    "xbin = 0.5*(x0[:-1] + x0[1:])\n",
    "\n",
    "# create a dataset for Mantid's data to plot using scipp\n",
    "dini = sc.Dataset(\n",
    "   data = {'mantid': sc.array(dims=['tof'], \n",
    "                              values=ybin,\n",
    "                              unit='counts')},\n",
    "   coords = {'tof': sc.array(dims=['tof'],\n",
    "                             values=xbin,\n",
    "                             unit=sc.units.us)}\n",
    ")"
   ]
  },
  {
   "cell_type": "code",
   "execution_count": null,
   "id": "81afcef7-b8c6-4db7-86b2-31f3d3b3bb82",
   "metadata": {},
   "outputs": [],
   "source": [
    "sc.plot(dini,\n",
    "        grid=True,\n",
    "        errorbars=False,\n",
    "        linestyle='solid',\n",
    "        marker='',\n",
    "        legend=True,\n",
    "        title='Input spectrum of FFTSmooth in Mantid')"
   ]
  },
  {
   "cell_type": "code",
   "execution_count": null,
   "id": "bfed8f61-2d1c-4912-bf7d-e2137302d8d5",
   "metadata": {},
   "outputs": [],
   "source": [
    "binned_smooth = mapi.FFTSmooth(InputWorkspace=binned,\n",
    "                               Filter='Butterworth',\n",
    "                               Params='20,2',\n",
    "                               IgnoreXBins=True,\n",
    "                               AllSpectra=True)"
   ]
  },
  {
   "cell_type": "code",
   "execution_count": null,
   "id": "cf5a5593-189b-46e5-abce-2dea36f0dee8",
   "metadata": {},
   "outputs": [],
   "source": [
    "# Extract 1 spectrum to plot\n",
    "binned_smooth551 = mapi.ExtractSingleSpectrum(binned_smooth, 550)\n",
    "\n",
    "ysmth = binned_smooth551.readY(0)\n",
    "x0 = binned_smooth551.readX(0)\n",
    "xsmth = 0.5*(x0[:-1] + x0[1:])\n",
    "esmth = binned_smooth551.readE(0)\n",
    "\n",
    "dsmooth = sc.Dataset(\n",
    "data={'mantid': sc.array(dims=['tof'], \n",
    "                         values=ysmth, \n",
    "                         unit='counts')},\n",
    "coords={'tof':sc.array(dims=['tof'], \n",
    "                       values=xsmth, \n",
    "                       unit=sc.units.us)})"
   ]
  },
  {
   "cell_type": "code",
   "execution_count": null,
   "id": "b8b230d0-5e24-4177-baf6-25c0c13e0fd6",
   "metadata": {},
   "outputs": [],
   "source": [
    "sc.plot(dsmooth,\n",
    "        grid=True,\n",
    "        errorbars=False,\n",
    "        linestyle='solid',\n",
    "        marker='', \n",
    "        legend=True,\n",
    "        title='Output spectrum of FFTSmooth in Mantid')"
   ]
  },
  {
   "cell_type": "markdown",
   "id": "8b13bf8d-0a90-4f00-ab1d-7fea2d5e71bd",
   "metadata": {},
   "source": [
    "## scipp"
   ]
  },
  {
   "cell_type": "code",
   "execution_count": null,
   "id": "6e0889d6-1e94-45b4-824b-d7c0a82158a8",
   "metadata": {},
   "outputs": [],
   "source": [
    "import scippneutron as scn\n",
    "import fft_smooth\n",
    "\n",
    "tof_min = 00000.00  # microseconds\n",
    "tof_max = 16666.67  # microseconds"
   ]
  },
  {
   "cell_type": "code",
   "execution_count": null,
   "id": "15be62d2-390b-4611-bde3-672da5192827",
   "metadata": {},
   "outputs": [],
   "source": [
    "vanadium = scn.load(filename=filename, \n",
    "                           load_pulse_times=True,\n",
    "                           advanced_geometry=True,\n",
    "                           mantid_args={'LoadMonitors': True})\n",
    "vanadium"
   ]
  },
  {
   "cell_type": "code",
   "execution_count": null,
   "id": "d60b10e9-a5e5-4f1c-a88c-1d7554205603",
   "metadata": {},
   "outputs": [],
   "source": [
    "tof_bins = sc.Variable(['tof'],\n",
    "                       unit=sc.units.us,\n",
    "                       values=np.linspace(tof_min, \n",
    "                                          tof_max, \n",
    "                                          num=2000))"
   ]
  },
  {
   "cell_type": "code",
   "execution_count": null,
   "id": "0492eca5-e35c-4738-8834-318162050654",
   "metadata": {},
   "outputs": [],
   "source": [
    "# check TOF step (this value is used for mantid binning parameters in the previous section)\n",
    "(tof_max - tof_min) / 2000"
   ]
  },
  {
   "cell_type": "code",
   "execution_count": null,
   "id": "e6a9c5b1-c7d4-40f1-93c7-174a55fccdc9",
   "metadata": {},
   "outputs": [],
   "source": [
    "hist = sc.histogram(vanadium, tof_bins)\n",
    "hist"
   ]
  },
  {
   "cell_type": "code",
   "execution_count": null,
   "id": "b87fbf26-0932-460c-87f3-31ff2e460f7f",
   "metadata": {},
   "outputs": [],
   "source": [
    "sc.plot(hist['spectrum', 550], \n",
    "        grid=True,\n",
    "        title='Input spectrum of ffsmooth in scipp')"
   ]
  },
  {
   "cell_type": "code",
   "execution_count": null,
   "id": "158d3138-ea7e-48ba-8a4f-895abeb64747",
   "metadata": {},
   "outputs": [],
   "source": [
    "vana_smooth = fft_smooth.fft_smooth(hist, 20, 2)\n",
    "vana_smooth"
   ]
  },
  {
   "cell_type": "code",
   "execution_count": null,
   "id": "488e609e-9c32-4321-b11f-ccd1398f6b9b",
   "metadata": {},
   "outputs": [],
   "source": [
    "sc.plot(vana_smooth['spectrum', 550], grid=True, errorbars=False)"
   ]
  },
  {
   "cell_type": "code",
   "execution_count": null,
   "id": "77802b2a-7bfe-4d98-a2bd-d65e2fb82661",
   "metadata": {},
   "outputs": [],
   "source": [
    "# Extract 1 spectrum to plot and compare with Mantid\n",
    "sc.plot({\"Scipp\": vana_smooth['spectrum', 550], \n",
    "         \"Mantid\": dsmooth['mantid']}, \n",
    "        errorbars=False, \n",
    "        linestyle='solid', \n",
    "        grid=True)"
   ]
  },
  {
   "cell_type": "code",
   "execution_count": null,
   "id": "e756d386-333c-4f0e-b2d8-675070dcb73c",
   "metadata": {},
   "outputs": [],
   "source": [
    "# Display values of output spectrum from scipp and mantid\n",
    "ysc = vana_smooth['spectrum', 550].values\n",
    "\n",
    "for i in range(len(ysc)):\n",
    "    print(ysmth[i] - ysc[i])"
   ]
  },
  {
   "cell_type": "code",
   "execution_count": null,
   "id": "aa5e0d62-a259-437a-8429-6afc2ee7e8d1",
   "metadata": {},
   "outputs": [],
   "source": []
  }
 ],
 "metadata": {
  "kernelspec": {
   "display_name": "Python 3 (ipykernel)",
   "language": "python",
   "name": "python3"
  },
  "language_info": {
   "codemirror_mode": {
    "name": "ipython",
    "version": 3
   },
   "file_extension": ".py",
   "mimetype": "text/x-python",
   "name": "python",
   "nbconvert_exporter": "python",
   "pygments_lexer": "ipython3",
   "version": "3.8.10"
  }
 },
 "nbformat": 4,
 "nbformat_minor": 5
}
