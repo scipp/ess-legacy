{
 "cells": [
  {
   "cell_type": "markdown",
   "metadata": {},
   "source": [
    "## SmoothData Demo\n",
    "<div class=\"alert alert-block alert-info\">\n",
    "<p><b>Information:</b> This notebook shows that a developed <code>scipp</code> function for smoothing data is equivalent to the original <code>SmoothData</code> found in <code>Mantid</code>.</p>\n",
    "    \n",
    "<p>A random dataset is generated from a gaussian distribution with gaussian errors scaled by the squareroot of the signal.  \n",
    "A second dataset with a few outliers is generated as well to see how the smoothing handle such cases.  \n",
    "Data is smoothed using both solutions and the results are plotted.</p>\n",
    "\n",
    "<p> <b>Requirements:</b> To run this notebook, you need <code>mantid</code>, <code>scipp</code>, <code>matplotlib</code> and <code>numpy</code> installed as well as the Python script <code>smoothdata.py</code> placed in the same folder as this notebook.</p>\n",
    "</div>"
   ]
  },
  {
   "cell_type": "code",
   "execution_count": null,
   "metadata": {},
   "outputs": [],
   "source": [
    "import matplotlib.pyplot as plt\n",
    "plt.rcParams['figure.figsize'] = [10, 8]\n",
    "%matplotlib notebook\n",
    "\n",
    "import mantid.simpleapi as mapi\n",
    "import numpy as np\n",
    "import scipp as sc\n",
    "\n",
    "import smooth_data"
   ]
  },
  {
   "cell_type": "code",
   "execution_count": null,
   "metadata": {},
   "outputs": [],
   "source": [
    "# Create a workspace that has a Gaussian peak, Mantid plot example\n",
    "x = np.arange(30)\n",
    "y0 = 20. + 50. * np.exp(-(x - 8.)**2. / 120.)\n",
    "err0 = np.sqrt(y0)\n",
    "\n",
    "# Add random noise\n",
    "y = y0 + err0 * np.random.normal(size=len(err0))\n",
    "err = np.sqrt(y)\n",
    "\n",
    "# Add a dataset with outliers\n",
    "y_outlier = y + 45. * np.around(np.random.sample(size=len(err))*0.54)\n",
    "err_outlier = np.sqrt(y_outlier)"
   ]
  },
  {
   "cell_type": "code",
   "execution_count": null,
   "metadata": {},
   "outputs": [],
   "source": [
    "def plot_comparison_mantid(x, y0, y, err, NPoints):\n",
    "    \"\"\"\n",
    "    Plot input and output of Mantid's SmoothData\n",
    "    Three curves are displayed:\n",
    "    - initial distribution\n",
    "    - initial distribution with added noise (used as input of SmoothData)\n",
    "    - output of SmoothData\n",
    "  \n",
    "    x: array of values for the coordinate\n",
    "    \n",
    "    y0: array of values for the counts\n",
    "\n",
    "    y: array of \"noisy\" values for the counts\n",
    "    \n",
    "    err: std values associated with y-values\n",
    "    \n",
    "    NPoints: number of points to use in the mean for SmoothData (odd number)\n",
    "    \"\"\"\n",
    "    fig, ax = plt.subplots()\n",
    "    # plot the initial distribution with black line\n",
    "    ax.plot(x, y0, 'k-', label='Original data') \n",
    "    # plot initial noisy data with errorbars, using red squares\n",
    "    ax.errorbar(x,\n",
    "                y,\n",
    "                yerr=err,\n",
    "                fmt='rs',\n",
    "                label='Original data with noise') \n",
    "    \n",
    "    # Create Mantid workspaces to apply SmoothData\n",
    "    w = mapi.CreateWorkspace(DataX=x,\n",
    "                             DataY=y,\n",
    "                             DataE=err,\n",
    "                             NSpec=1,\n",
    "                             UnitX='tof')\n",
    "    smooth = mapi.SmoothData(w, NPoints)\n",
    "    \n",
    "    # Plot output of SmoothData with errorbars, using blue circles\n",
    "    ax.errorbar(smooth.readX(0),\n",
    "                smooth.readY(0),\n",
    "                yerr=smooth.readE(0),\n",
    "                fmt='bo',\n",
    "                label=f'Smoothed with {NPoints} points') \n",
    "    ax.legend()\n",
    "    ax.set_xlabel('Time-of-flight ($\\mu$s)')\n",
    "    ax.set_title('Using Mantid')\n",
    "    ax.grid()"
   ]
  },
  {
   "cell_type": "markdown",
   "metadata": {},
   "source": [
    "### Reference Mantid plot, 3 and 5 point smoothing\n",
    "Here we see a comparison between smoothing with 3 and 5 points using the reference Mantid routine."
   ]
  },
  {
   "cell_type": "code",
   "execution_count": null,
   "metadata": {},
   "outputs": [],
   "source": [
    "plot_comparison_mantid(x, y0, y, err, 3)\n",
    "plot_comparison_mantid(x, y0, y, err, 5)"
   ]
  },
  {
   "cell_type": "markdown",
   "metadata": {},
   "source": [
    "### Reference Mantid plot, 3 and 5 point smoothing of data with outliers\n",
    "\n",
    "Here we see a comparison between smoothing with 3 and 5 points using the reference Mantid routine. A few outliers have been added to this dataset."
   ]
  },
  {
   "cell_type": "code",
   "execution_count": null,
   "metadata": {},
   "outputs": [],
   "source": [
    "plot_comparison_mantid(x, y0, y_outlier, err_outlier, 3)\n",
    "plot_comparison_mantid(x, y0, y_outlier, err_outlier, 5)"
   ]
  },
  {
   "cell_type": "code",
   "execution_count": null,
   "metadata": {},
   "outputs": [],
   "source": [
    "def plot_comparison_mantid_scipp(x, y0, y, err, NPoints):\n",
    "    \"\"\" \n",
    "    Create plot comparing scipp and mantid's implementation of SmoothData\n",
    "    \n",
    "    x: array of values for the coordinate\n",
    "    \n",
    "    y0: array of values for the counts\n",
    "\n",
    "    y: array of \"noisy\" values for the counts\n",
    "    \n",
    "    err: std values associated with y-values\n",
    "    \n",
    "    NPoints: number of points to use in the mean for SmoothData (odd number)\n",
    "    \"\"\"\n",
    "    fig, ax = plt.subplots()\n",
    "    ax.grid()\n",
    "   \n",
    "    ax.set_title('Mantid and scipp implementation of SmoothData')\n",
    "    ax.set_xlabel('Time-of-flight ($\\mu$s)')\n",
    "    \n",
    "    # plot the workspace with errorbars, using red squares\n",
    "    ax.errorbar(x, y, yerr=err, fmt='rs', label='Original data') \n",
    "    \n",
    "    # plot the initial noisy distribution with black line\n",
    "    ax.plot(x, y0,'k-', label='Original data with noise') \n",
    "    \n",
    "    # Calculate scipp's version of smoothdata and add output to plot\n",
    "    input_y = sc.Variable(dims=['tof'], values=y, variances=err**2, unit=sc.units.us)\n",
    "    output = smooth_data.smooth_data(input_y, dim='tof', NPoints=NPoints)\n",
    "    # plot with errorbars, using blue circles\n",
    "    ax.errorbar(x, output.values, yerr=np.sqrt(output.variances), fmt='bo', label=f'Smoothed in scipp with {NPoints} points')\n",
    "    \n",
    "    # Calculate Mantid's version of SmoothData and add output to plot\n",
    "    w = mapi.CreateWorkspace(DataX=x, DataY=y, DataE=err, NSpec=1, UnitX='Tof')\n",
    "    smooth_mtd = mapi.SmoothData(w, NPoints)\n",
    "    # plot with errorbars, using green crosses\n",
    "    ax.errorbar(smooth_mtd.readX(0),\n",
    "                smooth_mtd.readY(0),\n",
    "                yerr=smooth_mtd.readE(0),\n",
    "                fmt='gx',\n",
    "                label=f'Smoothed in Mantid with {NPoints} points') \n",
    "    ax.legend()"
   ]
  },
  {
   "cell_type": "markdown",
   "metadata": {},
   "source": [
    "### Scipp plot, 3 and 5 point smoothing\n",
    "Here we see a comparison between smoothing with 3 and 5 points with the developed scipp routine and Mantid's version. Results from scipp (blue curve) are visually similar to the Mantid version (green curve)."
   ]
  },
  {
   "cell_type": "code",
   "execution_count": null,
   "metadata": {},
   "outputs": [],
   "source": [
    "plot_comparison_mantid_scipp(x, y0, y, err, 3)\n",
    "plot_comparison_mantid_scipp(x, y0, y, err, 5)"
   ]
  },
  {
   "cell_type": "markdown",
   "metadata": {},
   "source": [
    "### Scipp plot, 3 and 5 point smoothing of data with outliers\n",
    "\n",
    "Here we see a comparison between smoothing with 3 and 5 points using the developed scipp routine  and Mantid's version. A few outliers have been added to this dataset. The scipp routine seems to handle this in the same way as the reference."
   ]
  },
  {
   "cell_type": "code",
   "execution_count": null,
   "metadata": {},
   "outputs": [],
   "source": [
    "plot_comparison_mantid_scipp(x, y0, y_outlier, err_outlier, 3)\n",
    "plot_comparison_mantid_scipp(x, y0, y_outlier, err_outlier, 5)"
   ]
  },
  {
   "cell_type": "markdown",
   "metadata": {},
   "source": [
    "## Numerical test for identical results\n",
    "Here the two different methods are used on the same data set, and instead of plotting the results the numpy routine allclose is used to check that the returned data is identical within reasonable tolerances."
   ]
  },
  {
   "cell_type": "code",
   "execution_count": null,
   "metadata": {},
   "outputs": [],
   "source": [
    "# Scipp smooth\n",
    "input_y = sc.Variable(dims=['tof'], values=y, variances=err**2, unit=sc.units.us)\n",
    "output = smooth_data.smooth_data(input_y, dim='tof', NPoints=3)\n",
    "\n",
    "# Mantid smooth reference\n",
    "w = mapi.CreateWorkspace(DataX=x,\n",
    "                             DataY=y,\n",
    "                             DataE=err,\n",
    "                             NSpec=1,\n",
    "                             UnitX='tof')\n",
    "smooth = mapi.SmoothData(w, 3)\n",
    "\n",
    "np.allclose(output.values, smooth.readY(0))"
   ]
  },
  {
   "cell_type": "code",
   "execution_count": null,
   "metadata": {},
   "outputs": [],
   "source": [
    "np.allclose(np.sqrt(output.variances), smooth.readE(0))"
   ]
  },
  {
   "cell_type": "code",
   "execution_count": null,
   "metadata": {},
   "outputs": [],
   "source": [
    "# Scipp smooth\n",
    "output = smooth_data.smooth_data(input_y, dim='tof', NPoints=5)\n",
    "\n",
    "# Mantid smooth reference\n",
    "smooth = mapi.SmoothData(w, 5)\n",
    "\n",
    "np.allclose(output.values, smooth.readY(0))"
   ]
  },
  {
   "cell_type": "code",
   "execution_count": null,
   "metadata": {},
   "outputs": [],
   "source": [
    "np.allclose(np.sqrt(output.variances), smooth.readE(0))"
   ]
  },
  {
   "cell_type": "code",
   "execution_count": null,
   "metadata": {},
   "outputs": [],
   "source": []
  }
 ],
 "metadata": {
  "kernelspec": {
   "display_name": "Python 3 (ipykernel)",
   "language": "python",
   "name": "python3"
  },
  "language_info": {
   "codemirror_mode": {
    "name": "ipython",
    "version": 3
   },
   "file_extension": ".py",
   "mimetype": "text/x-python",
   "name": "python",
   "nbconvert_exporter": "python",
   "pygments_lexer": "ipython3",
   "version": "3.8.10"
  },
  "toc": {
   "base_numbering": 1,
   "nav_menu": {},
   "number_sections": true,
   "sideBar": true,
   "skip_h1_title": false,
   "title_cell": "Table of Contents",
   "title_sidebar": "Contents",
   "toc_cell": false,
   "toc_position": {},
   "toc_section_display": true,
   "toc_window_display": false
  },
  "varInspector": {
   "cols": {
    "lenName": 16,
    "lenType": 16,
    "lenVar": 40
   },
   "kernels_config": {
    "python": {
     "delete_cmd_postfix": "",
     "delete_cmd_prefix": "del ",
     "library": "var_list.py",
     "varRefreshCmd": "print(var_dic_list())"
    },
    "r": {
     "delete_cmd_postfix": ") ",
     "delete_cmd_prefix": "rm(",
     "library": "var_list.r",
     "varRefreshCmd": "cat(var_dic_list()) "
    }
   },
   "types_to_exclude": [
    "module",
    "function",
    "builtin_function_or_method",
    "instance",
    "_Feature"
   ],
   "window_display": false
  }
 },
 "nbformat": 4,
 "nbformat_minor": 4
}
