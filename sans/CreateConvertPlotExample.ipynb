{
 "cells": [
  {
   "cell_type": "markdown",
   "metadata": {},
   "source": [
    "## Data manpulation widgets toy examples\n",
    "Currently to get this to work need to update the \\_repr_html\\_() method of the scip module to the following so that an optional scope can be passed in. This seemed like the nicest way to control the scope from within the widgets."
   ]
  },
  {
   "cell_type": "code",
   "execution_count": null,
   "metadata": {},
   "outputs": [],
   "source": [
    "def _repr_html_(input_scope=None):\n",
    "    import inspect\n",
    "    # Is there a better way to get the scope? The `7` is hard-coded for the\n",
    "    # current IPython stack when calling _repr_html_ so this is bound to break.\n",
    "    scope = input_scope if input_scope else inspect.stack()[7][0].f_globals\n",
    "    from IPython import get_ipython\n",
    "    ipython = get_ipython()\n",
    "    out = ''\n",
    "    for category in ['Variable', 'DataArray', 'Dataset']:\n",
    "        names = ipython.magic(f\"who_ls {category}\")\n",
    "        out += f\"<details open=\\\"open\\\"><summary>{category}s:\"\\\n",
    "               f\"({len(names)})</summary>\"\n",
    "        for name in names:\n",
    "            html = make_html(eval(name, scope))\n",
    "            out += f\"<details style=\\\"padding-left:2em\\\"><summary>\"\\\n",
    "                   f\"{name}</summary>{html}</details>\"\n",
    "        out += \"</details>\"\n",
    "    from IPython.core.display import display, HTML\n",
    "    display(HTML(out))"
   ]
  },
  {
   "cell_type": "code",
   "execution_count": null,
   "metadata": {},
   "outputs": [],
   "source": [
    "from convert_helpers import ConvertWidget, DataCreationWidget, PlotWidget\n",
    "import IPython.display as disp"
   ]
  },
  {
   "cell_type": "markdown",
   "metadata": {},
   "source": [
    "### Data creation\n",
    "Simple widget to create some pesudo real histogram data with sample, background and positional data. Currently only supports creating time of flight data."
   ]
  },
  {
   "cell_type": "code",
   "execution_count": null,
   "metadata": {},
   "outputs": [],
   "source": [
    "data_creation = DataCreationWidget(globals())\n",
    "disp.display(data_creation)"
   ]
  },
  {
   "cell_type": "markdown",
   "metadata": {},
   "source": [
    "### Data conversion"
   ]
  },
  {
   "cell_type": "code",
   "execution_count": null,
   "metadata": {
    "scrolled": false
   },
   "outputs": [],
   "source": [
    "data_conversion = ConvertWidget(globals())\n",
    "disp.display(data_conversion)"
   ]
  },
  {
   "cell_type": "markdown",
   "metadata": {},
   "source": [
    "### Data plotting\n",
    "Plots the data aquired by evaluating the expression entered."
   ]
  },
  {
   "cell_type": "code",
   "execution_count": null,
   "metadata": {
    "scrolled": false
   },
   "outputs": [],
   "source": [
    "plot_widget = PlotWidget(globals())\n",
    "data_creation.subscribe(plot_widget)\n",
    "data_conversion.subscribe(plot_widget)\n",
    "disp.display(plot_widget)"
   ]
  }
 ],
 "metadata": {
  "kernelspec": {
   "display_name": "Python 3",
   "language": "python",
   "name": "python3"
  },
  "language_info": {
   "codemirror_mode": {
    "name": "ipython",
    "version": 3
   },
   "file_extension": ".py",
   "mimetype": "text/x-python",
   "name": "python",
   "nbconvert_exporter": "python",
   "pygments_lexer": "ipython3",
   "version": "3.7.8"
  }
 },
 "nbformat": 4,
 "nbformat_minor": 4
}
