{
 "cells": [
  {
   "cell_type": "markdown",
   "metadata": {},
   "source": [
    "## Data manpulation widgets toy examples"
   ]
  },
  {
   "cell_type": "code",
   "execution_count": null,
   "metadata": {},
   "outputs": [],
   "source": [
    "from example_widgets import TransformWidget, PlotWidget, fake_load, LoadWidget, setup_code_hiding\n",
    "import scipp as sc\n",
    "import functools\n",
    "\n",
    "setup_code_hiding()"
   ]
  },
  {
   "cell_type": "markdown",
   "metadata": {},
   "source": [
    "### Data Loading\n",
    "Currently creates some example data rather than loading a file. The created file is a histogrammed time of flight data."
   ]
  },
  {
   "cell_type": "code",
   "execution_count": null,
   "metadata": {},
   "outputs": [],
   "source": [
    "data_creation = LoadWidget(globals(), fake_load, \n",
    "                           'path/to/directory/', \n",
    "                           'run number', lambda run: 'LARMOR' + run)\n",
    "data_creation"
   ]
  },
  {
   "cell_type": "markdown",
   "metadata": {},
   "source": [
    "### Data conversion\n",
    "This converts one physical dimension to another the current conversions support in scipp.neutron are:\n",
    "* tof -> dspacing, wavelength, E\n",
    "* d-spacing -> tof\n",
    "* wavelength -> Q, tof\n",
    "* E -> tof\n",
    "* Q -> wavelength"
   ]
  },
  {
   "cell_type": "code",
   "execution_count": null,
   "metadata": {
    "scrolled": false
   },
   "outputs": [],
   "source": [
    "data_conversion = TransformWidget(globals(), \n",
    "                                  sc.neutron.convert, 'Convert', \n",
    "                                  {'data': lambda name : globals()[name],\n",
    "                                   'from' : str, 'to': str})\n",
    "data_conversion"
   ]
  },
  {
   "cell_type": "markdown",
   "metadata": {},
   "source": [
    "Can also specify just some inputs of a function graphically."
   ]
  },
  {
   "cell_type": "code",
   "execution_count": null,
   "metadata": {},
   "outputs": [],
   "source": [
    "# Workaround because pythn doesn't like shadowing of from\n",
    "kwargs = {'from':'tof'}\n",
    "convert_tof = functools.partial(sc.neutron.convert, **kwargs)\n",
    "data_conversion_tof = TransformWidget(globals(), \n",
    "                                  convert_tof, 'Convert from tof', \n",
    "                                  {'data': lambda name : globals()[name],\n",
    "                                   'to': str})\n",
    "data_conversion_tof"
   ]
  },
  {
   "cell_type": "markdown",
   "metadata": {},
   "source": [
    "### Data plotting\n",
    "Plots the data aquired by evaluating the expression entered."
   ]
  },
  {
   "cell_type": "code",
   "execution_count": null,
   "metadata": {
    "scrolled": false
   },
   "outputs": [],
   "source": [
    "plot_widget = PlotWidget(globals())\n",
    "data_creation.subscribe(plot_widget)\n",
    "data_conversion.subscribe(plot_widget)\n",
    "data_conversion_tof.subscribe(plot_widget)\n",
    "plot_widget"
   ]
  }
 ],
 "metadata": {
  "kernelspec": {
   "display_name": "Python 3",
   "language": "python",
   "name": "python3"
  },
  "language_info": {
   "codemirror_mode": {
    "name": "ipython",
    "version": 3
   },
   "file_extension": ".py",
   "mimetype": "text/x-python",
   "name": "python",
   "nbconvert_exporter": "python",
   "pygments_lexer": "ipython3",
   "version": "3.7.8"
  }
 },
 "nbformat": 4,
 "nbformat_minor": 4
}
