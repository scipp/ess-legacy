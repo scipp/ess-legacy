{
 "cells": [
  {
   "cell_type": "code",
   "execution_count": null,
   "metadata": {},
   "outputs": [],
   "source": [
    "import scipp as sc\n",
    "from scipp.plot import plot\n",
    "import numpy as np\n",
    "import dataconfig # run make_config.py to create this\n",
    "import ipywidgets as w\n",
    "import IPython.display as disp\n",
    "from convert_helpers import PlotWidget, ReductionWidget"
   ]
  },
  {
   "cell_type": "code",
   "execution_count": null,
   "metadata": {},
   "outputs": [],
   "source": [
    "# Set reduction settings. This is currently quite a brittle implimentation where we require certain variables to exist\n",
    "# in the global namespace in order for the reduction to work.\n",
    "path = dataconfig.data_root\n",
    "instrument = 'LARMOR'\n",
    "direct_beam_file = 'DirectBeam_20feb_full_v3.dat'\n",
    "moderator_file = 'ModeratorStdDev_TS2_SANS_LETexptl_07Aug2015.txt'\n",
    "l_collimation = sc.Variable(value=5.0, unit=sc.units.m)\n",
    "r2 = sc.Variable(value=4.0824829046386295/1000, unit=sc.units.m) # sample aperture radius\n",
    "r1 = sc.Variable(value=14.433756729740645/1000, unit=sc.units.m) # source aperture radius\n",
    "dr = sc.Variable(value=8.0/1000, unit=sc.units.m) # virtual ring width on detector\n",
    "wavelength_bins = sc.Variable(\n",
    "        dims=['wavelength'],\n",
    "        unit=sc.units.angstrom,\n",
    "        values=np.geomspace(0.9, 13.5, num=110))"
   ]
  },
  {
   "cell_type": "code",
   "execution_count": null,
   "metadata": {
    "scrolled": false
   },
   "outputs": [],
   "source": [
    "reduction_widget = ReductionWidget(globals())\n",
    "disp.display(reduction_widget)"
   ]
  },
  {
   "cell_type": "code",
   "execution_count": null,
   "metadata": {
    "scrolled": false
   },
   "outputs": [],
   "source": [
    "plot_widget = PlotWidget(globals())\n",
    "reduction_widget.subscribe(plot_widget)\n",
    "disp.display(plot_widget)"
   ]
  }
 ],
 "metadata": {
  "kernelspec": {
   "display_name": "Python 3",
   "language": "python",
   "name": "python3"
  },
  "language_info": {
   "codemirror_mode": {
    "name": "ipython",
    "version": 3
   },
   "file_extension": ".py",
   "mimetype": "text/x-python",
   "name": "python",
   "nbconvert_exporter": "python",
   "pygments_lexer": "ipython3",
   "version": "3.7.8"
  }
 },
 "nbformat": 4,
 "nbformat_minor": 4
}
