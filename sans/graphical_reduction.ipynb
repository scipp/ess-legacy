{
 "cells": [
  {
   "cell_type": "code",
   "execution_count": null,
   "metadata": {},
   "outputs": [],
   "source": [
    "import scipp as sc\n",
    "from scipp.plot import plot\n",
    "import numpy as np\n",
    "import dataconfig # run make_config.py to create this\n",
    "from graphical_reduction import q1d, load_data, run_reduction  \n",
    "import ipywidgets as w\n",
    "import IPython.display as disp\n",
    "import warnings\n",
    "from convert_helpers import ConvertWidget, TransformationWidget"
   ]
  },
  {
   "cell_type": "code",
   "execution_count": null,
   "metadata": {},
   "outputs": [],
   "source": [
    "class ReductionWidget(w.Box):\n",
    "    def __init__(self):\n",
    "        super().__init__()\n",
    "        self.sample = w.Text(description='Sample', value='49338')\n",
    "        self.sample_trans = w.Text(description='Sample trans', value='49339')\n",
    "        self.background = w.Text(description='Background', value='49334')\n",
    "        self.background_trans = w.Text(description='Backg... trans', value='49335')\n",
    "        self.load_button = w.Button(description='Load')\n",
    "        self.load_button.on_click(self._on_load_button_clicked)\n",
    "        self._button = w.Button(description='Process')\n",
    "        self._button.on_click(self._on_process_button_clicked)\n",
    "        self.output = w.Output(width='100%', height='100%')\n",
    "        self.children = [w.VBox([w.HBox([self.sample, self.load_button]), w.HBox([self.sample_trans, self._button]), self.background, self.background_trans, self.output])]\n",
    "        \n",
    "    def _on_process_button_clicked(self, b):\n",
    "        self.output.clear_output()\n",
    "        sample_run_number = self.sample.value\n",
    "        sample_transmission_run_number = self.sample_trans.value\n",
    "        background_run_number = self.background.value\n",
    "        background_transmission_run_number = self.background_trans.value\n",
    "        \n",
    "        with self.output:\n",
    "            run_reduction(sample_run_number, sample_transmission_run_number, background_transmission_run_number,\n",
    "                          background_run_number, loaded_data, path, moderator_file, direct_beam_file,\n",
    "                          l_collimation, r1, r2, dr)\n",
    "        \n",
    "        \n",
    "    def _on_load_button_clicked(self, b):\n",
    "        global loaded_data\n",
    "        self.output.clear_output()\n",
    "        run_list = [self.sample.value, self.sample_trans.value, self.background.value, self.background_trans.value]\n",
    "        with self.output:\n",
    "            load_data(run_list, loaded_data, path)\n",
    "            "
   ]
  },
  {
   "cell_type": "code",
   "execution_count": null,
   "metadata": {},
   "outputs": [],
   "source": [
    "class PlotWidget(w.Box):\n",
    "    def __init__(self):\n",
    "        super().__init__()\n",
    "        options = [key for key, item in globals().items() if isinstance(item, (sc.DataArray, sc.Dataset))]\n",
    "        self._data_selector = w.Combobox(placeholder='Data to plot', options=options)\n",
    "        self._button = w.Button(description='Plot')\n",
    "        self._button.on_click(self._on_button_clicked)\n",
    "        self.output = w.Output(width='100%', height='100%')\n",
    "        self.children = [w.VBox([w.HBox([self._data_selector, self._button]), self.output])]\n",
    "        \n",
    "    def _on_button_clicked(self, b):\n",
    "        self.output.clear_output()\n",
    "        data_dict = {key: globals()[key] for key in \"\".join(self._data_selector.value.split()).split(',')}\n",
    "        ds = sc.Dataset(data_dict)\n",
    "        with self.output:\n",
    "            plot(ds)"
   ]
  },
  {
   "cell_type": "code",
   "execution_count": null,
   "metadata": {},
   "outputs": [],
   "source": [
    "# Set reduction settings.\n",
    "path = dataconfig.data_root\n",
    "direct_beam_file = 'DirectBeam_20feb_full_v3.dat'\n",
    "moderator_file = 'ModeratorStdDev_TS2_SANS_LETexptl_07Aug2015.txt'\n",
    "l_collimation = sc.Variable(value=5.0, unit=sc.units.m)\n",
    "r2 = sc.Variable(value=4.0824829046386295/1000, unit=sc.units.m) # sample aperture radius\n",
    "r1 = sc.Variable(value=14.433756729740645/1000, unit=sc.units.m) # source aperture radius\n",
    "dr = sc.Variable(value=8.0/1000, unit=sc.units.m) # virtual ring width on detector\n",
    "wavelength_bins = sc.Variable(\n",
    "        dims=['wavelength'],\n",
    "        unit=sc.units.angstrom,\n",
    "        values=np.geomspace(0.9, 13.5, num=110))\n",
    "loaded_data = {}"
   ]
  },
  {
   "cell_type": "code",
   "execution_count": null,
   "metadata": {
    "scrolled": false
   },
   "outputs": [],
   "source": [
    "disp.display(ReductionWidget())"
   ]
  },
  {
   "cell_type": "code",
   "execution_count": null,
   "metadata": {
    "scrolled": false
   },
   "outputs": [],
   "source": [
    "disp.display(PlotWidget())"
   ]
  },
  {
   "cell_type": "code",
   "execution_count": null,
   "metadata": {},
   "outputs": [],
   "source": []
  }
 ],
 "metadata": {
  "kernelspec": {
   "display_name": "Python 3",
   "language": "python",
   "name": "python3"
  },
  "language_info": {
   "codemirror_mode": {
    "name": "ipython",
    "version": 3
   },
   "file_extension": ".py",
   "mimetype": "text/x-python",
   "name": "python",
   "nbconvert_exporter": "python",
   "pygments_lexer": "ipython3",
   "version": "3.7.8"
  }
 },
 "nbformat": 4,
 "nbformat_minor": 4
}
